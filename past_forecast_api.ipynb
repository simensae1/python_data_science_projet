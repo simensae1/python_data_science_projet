{
 "cells": [
  {
   "cell_type": "code",
   "execution_count": 1,
   "metadata": {},
   "outputs": [],
   "source": [
    "import openmeteo_requests\n",
    "\n",
    "import requests_cache\n",
    "import pandas as pd\n",
    "from retry_requests import retry\n"
   ]
  },
  {
   "cell_type": "code",
   "execution_count": null,
   "metadata": {},
   "outputs": [
    {
     "name": "stdout",
     "output_type": "stream",
     "text": [
      "Coordinates 48.849998474121094°N 2.34999942779541°E\n",
      "Elevation 43.0 m asl\n",
      "Timezone None None\n",
      "Timezone difference to GMT+0 0 s\n"
     ]
    }
   ],
   "source": [
    "\t\t# Setup the Open-Meteo API client with cache and retry on error\n",
    "for i in range(43,50,0.01):\n",
    "\tfor j in range(-5,8,0.01):\n",
    "\t\tcache_session = requests_cache.CachedSession('.cache', expire_after = 3600)\n",
    "\t\tretry_session = retry(cache_session, retries = 5, backoff_factor = 0.2)\n",
    "\t\topenmeteo = openmeteo_requests.Client(session = retry_session)\n",
    "\n",
    "\t\t# Make sure all required weather variables are listed here\n",
    "\t\t# The order of variables in hourly or daily is important to assign them correctly below\n",
    "\t\turl = \"https://historical-forecast-api.open-meteo.com/v1/forecast\"\n",
    "\t\tparams = {\n",
    "\t\t\t\"latitude\": i,\n",
    "\t\t\t\"longitude\": j,\n",
    "\t\t\t\"start_date\": \"2023-01-01\",\n",
    "\t\t\t\"end_date\": \"2023-12-31\",\n",
    "\t\t\t\"hourly\": \"temperature_2m\",\n",
    "\t\t\t\"models\": \"meteofrance_seamless\"\n",
    "\t\t}\n",
    "\t\tresponses = openmeteo.weather_api(url, params=params)\n",
    "\n",
    "\t\t# Process first location. Add a for-loop for multiple locations or weather models\n",
    "\t\tresponse = responses[0]\n",
    "\t\tprint(f\"Coordinates {response.Latitude()}°N {response.Longitude()}°E\")\n",
    "\t\tprint(f\"Elevation {response.Elevation()} m asl\")\n",
    "\t\tprint(f\"Timezone {response.Timezone()} {response.TimezoneAbbreviation()}\")\n",
    "\t\tprint(f\"Timezone difference to GMT+0 {response.UtcOffsetSeconds()} s\")\n",
    "\n",
    "\t\t# Process hourly data. The order of variables needs to be the same as requested.\n",
    "\t\thourly = response.Hourly()\n",
    "\t\thourly_temperature_2m = hourly.Variables(0).ValuesAsNumpy()\n",
    "\n",
    "\t\thourly_data = {\"date\": pd.date_range(\n",
    "\t\t\tstart = pd.to_datetime(hourly.Time(), unit = \"s\", utc = True),\n",
    "\t\t\tend = pd.to_datetime(hourly.TimeEnd(), unit = \"s\", utc = True),\n",
    "\t\t\tfreq = pd.Timedelta(seconds = hourly.Interval()),\n",
    "\t\t\tinclusive = \"left\"\n",
    "\t\t)}\n",
    "\t\thourly_data[\"temperature_2m\"] = hourly_temperature_2m\n",
    "\n",
    "\t\thourly_dataframe_past_forecast_Paris = pd.DataFrame(data = hourly_data)\n",
    "\t\thourly_dataframe_past_forecast_Paris.dropna(inplace=True)"
   ]
  },
  {
   "cell_type": "code",
   "execution_count": 9,
   "metadata": {},
   "outputs": [
    {
     "name": "stdout",
     "output_type": "stream",
     "text": [
      "                          date  temperature_2m\n",
      "0    2023-01-01 00:00:00+00:00       15.938999\n",
      "1    2023-01-01 01:00:00+00:00       15.188999\n",
      "2    2023-01-01 02:00:00+00:00       14.839000\n",
      "3    2023-01-01 03:00:00+00:00       14.438999\n",
      "4    2023-01-01 04:00:00+00:00       13.988999\n",
      "...                        ...             ...\n",
      "8755 2023-12-31 19:00:00+00:00        8.011000\n",
      "8756 2023-12-31 20:00:00+00:00        7.511000\n",
      "8757 2023-12-31 21:00:00+00:00        7.411000\n",
      "8758 2023-12-31 22:00:00+00:00        7.661000\n",
      "8759 2023-12-31 23:00:00+00:00        7.561000\n",
      "\n",
      "[8755 rows x 2 columns]\n"
     ]
    }
   ],
   "source": [
    "print(hourly_dataframe_past_forecast_Paris)\n",
    "hourly_dataframe_past_forecast_Paris.to_csv('hourly_dataframe_past_forecast_Paris.csv')"
   ]
  }
 ],
 "metadata": {
  "kernelspec": {
   "display_name": "Python 3",
   "language": "python",
   "name": "python3"
  },
  "language_info": {
   "codemirror_mode": {
    "name": "ipython",
    "version": 3
   },
   "file_extension": ".py",
   "mimetype": "text/x-python",
   "name": "python",
   "nbconvert_exporter": "python",
   "pygments_lexer": "ipython3",
   "version": "3.10.11"
  }
 },
 "nbformat": 4,
 "nbformat_minor": 2
}
