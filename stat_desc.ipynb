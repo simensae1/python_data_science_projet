{
 "cells": [
  {
   "cell_type": "code",
   "execution_count": 1,
   "metadata": {},
   "outputs": [],
   "source": [
    "import pandas as pd\n",
    "import matplotlib.pyplot as plt\n",
    "from mpl_toolkits.mplot3d import Axes3D\n",
    "import numpy as np"
   ]
  },
  {
   "cell_type": "markdown",
   "metadata": {},
   "source": [
    "Attention : dans les données de prévisions 2023 il manque 5 valeurs au 31 décembre 2023 il manque les valeurs de 7h à midi. Ainsi on retire les même valeurs des relevés pour pouvoir faire de bonnes comparaisons."
   ]
  },
  {
   "cell_type": "markdown",
   "metadata": {},
   "source": [
    "bonjour test"
   ]
  },
  {
   "cell_type": "code",
   "execution_count": 2,
   "metadata": {},
   "outputs": [
    {
     "name": "stdout",
     "output_type": "stream",
     "text": [
      "      Unnamed: 0                       date  temperature_2m\n",
      "0              0  2023-01-01 00:00:00+00:00       15.064501\n",
      "1              1  2023-01-01 01:00:00+00:00       15.164500\n",
      "2              2  2023-01-01 02:00:00+00:00       14.964500\n",
      "3              3  2023-01-01 03:00:00+00:00       14.414500\n",
      "4              4  2023-01-01 04:00:00+00:00       14.364500\n",
      "...          ...                        ...             ...\n",
      "8755        8755  2023-12-31 19:00:00+00:00        8.264501\n",
      "8756        8756  2023-12-31 20:00:00+00:00        7.914500\n",
      "8757        8757  2023-12-31 21:00:00+00:00        7.614500\n",
      "8758        8758  2023-12-31 22:00:00+00:00        7.564500\n",
      "8759        8759  2023-12-31 23:00:00+00:00        7.464500\n",
      "\n",
      "[8760 rows x 3 columns]\n",
      "      Unnamed: 0                       date  temperature_2m\n",
      "0              0  2023-01-01 00:00:00+00:00       15.938999\n",
      "1              1  2023-01-01 01:00:00+00:00       15.188999\n",
      "2              2  2023-01-01 02:00:00+00:00       14.839000\n",
      "3              3  2023-01-01 03:00:00+00:00       14.438999\n",
      "4              4  2023-01-01 04:00:00+00:00       13.988999\n",
      "...          ...                        ...             ...\n",
      "8750        8755  2023-12-31 19:00:00+00:00        8.011000\n",
      "8751        8756  2023-12-31 20:00:00+00:00        7.511000\n",
      "8752        8757  2023-12-31 21:00:00+00:00        7.411000\n",
      "8753        8758  2023-12-31 22:00:00+00:00        7.661000\n",
      "8754        8759  2023-12-31 23:00:00+00:00        7.561000\n",
      "\n",
      "[8755 rows x 3 columns]\n"
     ]
    }
   ],
   "source": [
    "Paris_historical_data = pd.read_csv('hourly_dataframe_historical_data_Paris.csv')\n",
    "Paris_past_forecast = pd.read_csv('hourly_dataframe_past_forecast_Paris.csv')\n",
    "\n",
    "print(Paris_historical_data)\n",
    "print(Paris_past_forecast)"
   ]
  },
  {
   "cell_type": "code",
   "execution_count": 3,
   "metadata": {},
   "outputs": [
    {
     "name": "stdout",
     "output_type": "stream",
     "text": [
      "8743\n",
      "8744\n",
      "8745\n",
      "8746\n",
      "8747\n",
      "8747\n"
     ]
    }
   ],
   "source": [
    "j=0\n",
    "for i in range(len(Paris_past_forecast)):\n",
    "    if Paris_past_forecast[\"date\"].iloc[i] != Paris_historical_data[\"date\"].iloc[i]:\n",
    "        print(i)\n",
    "        j+=1\n",
    "        if j==5:\n",
    "            print(i)\n",
    "            break\n",
    "        \n",
    "        "
   ]
  },
  {
   "cell_type": "code",
   "execution_count": 4,
   "metadata": {},
   "outputs": [
    {
     "data": {
      "text/html": [
       "<div>\n",
       "<style scoped>\n",
       "    .dataframe tbody tr th:only-of-type {\n",
       "        vertical-align: middle;\n",
       "    }\n",
       "\n",
       "    .dataframe tbody tr th {\n",
       "        vertical-align: top;\n",
       "    }\n",
       "\n",
       "    .dataframe thead th {\n",
       "        text-align: right;\n",
       "    }\n",
       "</style>\n",
       "<table border=\"1\" class=\"dataframe\">\n",
       "  <thead>\n",
       "    <tr style=\"text-align: right;\">\n",
       "      <th></th>\n",
       "      <th>Unnamed: 0</th>\n",
       "      <th>date</th>\n",
       "      <th>temperature_2m</th>\n",
       "    </tr>\n",
       "  </thead>\n",
       "  <tbody>\n",
       "    <tr>\n",
       "      <th>0</th>\n",
       "      <td>0</td>\n",
       "      <td>2023-01-01 00:00:00+00:00</td>\n",
       "      <td>15.064501</td>\n",
       "    </tr>\n",
       "    <tr>\n",
       "      <th>1</th>\n",
       "      <td>1</td>\n",
       "      <td>2023-01-01 01:00:00+00:00</td>\n",
       "      <td>15.164500</td>\n",
       "    </tr>\n",
       "    <tr>\n",
       "      <th>2</th>\n",
       "      <td>2</td>\n",
       "      <td>2023-01-01 02:00:00+00:00</td>\n",
       "      <td>14.964500</td>\n",
       "    </tr>\n",
       "    <tr>\n",
       "      <th>3</th>\n",
       "      <td>3</td>\n",
       "      <td>2023-01-01 03:00:00+00:00</td>\n",
       "      <td>14.414500</td>\n",
       "    </tr>\n",
       "    <tr>\n",
       "      <th>4</th>\n",
       "      <td>4</td>\n",
       "      <td>2023-01-01 04:00:00+00:00</td>\n",
       "      <td>14.364500</td>\n",
       "    </tr>\n",
       "    <tr>\n",
       "      <th>...</th>\n",
       "      <td>...</td>\n",
       "      <td>...</td>\n",
       "      <td>...</td>\n",
       "    </tr>\n",
       "    <tr>\n",
       "      <th>8755</th>\n",
       "      <td>8755</td>\n",
       "      <td>2023-12-31 19:00:00+00:00</td>\n",
       "      <td>8.264501</td>\n",
       "    </tr>\n",
       "    <tr>\n",
       "      <th>8756</th>\n",
       "      <td>8756</td>\n",
       "      <td>2023-12-31 20:00:00+00:00</td>\n",
       "      <td>7.914500</td>\n",
       "    </tr>\n",
       "    <tr>\n",
       "      <th>8757</th>\n",
       "      <td>8757</td>\n",
       "      <td>2023-12-31 21:00:00+00:00</td>\n",
       "      <td>7.614500</td>\n",
       "    </tr>\n",
       "    <tr>\n",
       "      <th>8758</th>\n",
       "      <td>8758</td>\n",
       "      <td>2023-12-31 22:00:00+00:00</td>\n",
       "      <td>7.564500</td>\n",
       "    </tr>\n",
       "    <tr>\n",
       "      <th>8759</th>\n",
       "      <td>8759</td>\n",
       "      <td>2023-12-31 23:00:00+00:00</td>\n",
       "      <td>7.464500</td>\n",
       "    </tr>\n",
       "  </tbody>\n",
       "</table>\n",
       "<p>8755 rows × 3 columns</p>\n",
       "</div>"
      ],
      "text/plain": [
       "      Unnamed: 0                       date  temperature_2m\n",
       "0              0  2023-01-01 00:00:00+00:00       15.064501\n",
       "1              1  2023-01-01 01:00:00+00:00       15.164500\n",
       "2              2  2023-01-01 02:00:00+00:00       14.964500\n",
       "3              3  2023-01-01 03:00:00+00:00       14.414500\n",
       "4              4  2023-01-01 04:00:00+00:00       14.364500\n",
       "...          ...                        ...             ...\n",
       "8755        8755  2023-12-31 19:00:00+00:00        8.264501\n",
       "8756        8756  2023-12-31 20:00:00+00:00        7.914500\n",
       "8757        8757  2023-12-31 21:00:00+00:00        7.614500\n",
       "8758        8758  2023-12-31 22:00:00+00:00        7.564500\n",
       "8759        8759  2023-12-31 23:00:00+00:00        7.464500\n",
       "\n",
       "[8755 rows x 3 columns]"
      ]
     },
     "execution_count": 4,
     "metadata": {},
     "output_type": "execute_result"
    }
   ],
   "source": [
    "Paris_historical_data.drop([8743,8744,8745,8746,8747])\n"
   ]
  },
  {
   "cell_type": "code",
   "execution_count": 5,
   "metadata": {},
   "outputs": [
    {
     "name": "stdout",
     "output_type": "stream",
     "text": [
      "8760\n"
     ]
    }
   ],
   "source": [
    "Paris_historical_data.reset_index(drop=True)\n",
    "print(len(Paris_historical_data))"
   ]
  },
  {
   "cell_type": "code",
   "execution_count": 6,
   "metadata": {},
   "outputs": [
    {
     "name": "stdout",
     "output_type": "stream",
     "text": [
      "      Unnamed: 0                       date  temperature_2m  \\\n",
      "0              0  2023-01-01 00:00:00+00:00       15.938999   \n",
      "1              1  2023-01-01 01:00:00+00:00       15.188999   \n",
      "2              2  2023-01-01 02:00:00+00:00       14.839000   \n",
      "3              3  2023-01-01 03:00:00+00:00       14.438999   \n",
      "4              4  2023-01-01 04:00:00+00:00       13.988999   \n",
      "...          ...                        ...             ...   \n",
      "8750        8755  2023-12-31 19:00:00+00:00        8.011000   \n",
      "8751        8756  2023-12-31 20:00:00+00:00        7.511000   \n",
      "8752        8757  2023-12-31 21:00:00+00:00        7.411000   \n",
      "8753        8758  2023-12-31 22:00:00+00:00        7.661000   \n",
      "8754        8759  2023-12-31 23:00:00+00:00        7.561000   \n",
      "\n",
      "      real temperature 2m     error  abs_value  \n",
      "0               15.064501  0.874498   0.874498  \n",
      "1               15.164500  0.024499   0.024499  \n",
      "2               14.964500 -0.125500   0.125500  \n",
      "3               14.414500  0.024499   0.024499  \n",
      "4               14.364500 -0.375501   0.375501  \n",
      "...                   ...       ...        ...  \n",
      "8750            10.164500 -2.153500   2.153500  \n",
      "8751             9.714500 -2.203500   2.203500  \n",
      "8752             9.714500 -2.303500   2.303500  \n",
      "8753             8.714500 -1.053500   1.053500  \n",
      "8754             8.614500 -1.053500   1.053500  \n",
      "\n",
      "[8755 rows x 6 columns]\n"
     ]
    }
   ],
   "source": [
    "Paris_past_forecast[\"real temperature 2m\"]=Paris_historical_data[\"temperature_2m\"]\n",
    "Paris_past_forecast[\"error\"]=Paris_past_forecast[\"temperature_2m\"]-Paris_past_forecast[\"real temperature 2m\"]\n",
    "Paris_past_forecast[\"abs_value\"]=abs(Paris_past_forecast[\"error\"])\n",
    "print(Paris_past_forecast)"
   ]
  },
  {
   "cell_type": "code",
   "execution_count": 7,
   "metadata": {},
   "outputs": [],
   "source": [
    "Paris_past_forecast['date'] = pd.to_datetime(Paris_past_forecast['date'])\n"
   ]
  },
  {
   "cell_type": "code",
   "execution_count": 8,
   "metadata": {},
   "outputs": [
    {
     "name": "stdout",
     "output_type": "stream",
     "text": [
      "1.440001432442947\n"
     ]
    },
    {
     "data": {
      "text/html": [
       "<div>\n",
       "<style scoped>\n",
       "    .dataframe tbody tr th:only-of-type {\n",
       "        vertical-align: middle;\n",
       "    }\n",
       "\n",
       "    .dataframe tbody tr th {\n",
       "        vertical-align: top;\n",
       "    }\n",
       "\n",
       "    .dataframe thead th {\n",
       "        text-align: right;\n",
       "    }\n",
       "</style>\n",
       "<table border=\"1\" class=\"dataframe\">\n",
       "  <thead>\n",
       "    <tr style=\"text-align: right;\">\n",
       "      <th></th>\n",
       "      <th>Unnamed: 0</th>\n",
       "      <th>temperature_2m</th>\n",
       "      <th>real temperature 2m</th>\n",
       "      <th>error</th>\n",
       "      <th>abs_value</th>\n",
       "    </tr>\n",
       "  </thead>\n",
       "  <tbody>\n",
       "    <tr>\n",
       "      <th>count</th>\n",
       "      <td>8755.000000</td>\n",
       "      <td>8755.000000</td>\n",
       "      <td>8755.000000</td>\n",
       "      <td>8755.000000</td>\n",
       "      <td>8755.000000</td>\n",
       "    </tr>\n",
       "    <tr>\n",
       "      <th>mean</th>\n",
       "      <td>4377.006853</td>\n",
       "      <td>14.356308</td>\n",
       "      <td>13.129840</td>\n",
       "      <td>1.226468</td>\n",
       "      <td>1.440001</td>\n",
       "    </tr>\n",
       "    <tr>\n",
       "      <th>std</th>\n",
       "      <td>2527.506998</td>\n",
       "      <td>7.095172</td>\n",
       "      <td>7.039941</td>\n",
       "      <td>1.335348</td>\n",
       "      <td>1.101684</td>\n",
       "    </tr>\n",
       "    <tr>\n",
       "      <th>min</th>\n",
       "      <td>0.000000</td>\n",
       "      <td>-2.611000</td>\n",
       "      <td>-5.035500</td>\n",
       "      <td>-7.225500</td>\n",
       "      <td>0.024499</td>\n",
       "    </tr>\n",
       "    <tr>\n",
       "      <th>25%</th>\n",
       "      <td>2188.500000</td>\n",
       "      <td>9.438999</td>\n",
       "      <td>8.314501</td>\n",
       "      <td>0.424500</td>\n",
       "      <td>0.624499</td>\n",
       "    </tr>\n",
       "    <tr>\n",
       "      <th>50%</th>\n",
       "      <td>4377.000000</td>\n",
       "      <td>13.589000</td>\n",
       "      <td>12.414500</td>\n",
       "      <td>1.124500</td>\n",
       "      <td>1.224499</td>\n",
       "    </tr>\n",
       "    <tr>\n",
       "      <th>75%</th>\n",
       "      <td>6565.500000</td>\n",
       "      <td>19.689000</td>\n",
       "      <td>18.314500</td>\n",
       "      <td>1.924500</td>\n",
       "      <td>1.974500</td>\n",
       "    </tr>\n",
       "    <tr>\n",
       "      <th>max</th>\n",
       "      <td>8759.000000</td>\n",
       "      <td>34.789000</td>\n",
       "      <td>33.914500</td>\n",
       "      <td>6.774499</td>\n",
       "      <td>7.225500</td>\n",
       "    </tr>\n",
       "  </tbody>\n",
       "</table>\n",
       "</div>"
      ],
      "text/plain": [
       "        Unnamed: 0  temperature_2m  real temperature 2m        error  \\\n",
       "count  8755.000000     8755.000000          8755.000000  8755.000000   \n",
       "mean   4377.006853       14.356308            13.129840     1.226468   \n",
       "std    2527.506998        7.095172             7.039941     1.335348   \n",
       "min       0.000000       -2.611000            -5.035500    -7.225500   \n",
       "25%    2188.500000        9.438999             8.314501     0.424500   \n",
       "50%    4377.000000       13.589000            12.414500     1.124500   \n",
       "75%    6565.500000       19.689000            18.314500     1.924500   \n",
       "max    8759.000000       34.789000            33.914500     6.774499   \n",
       "\n",
       "         abs_value  \n",
       "count  8755.000000  \n",
       "mean      1.440001  \n",
       "std       1.101684  \n",
       "min       0.024499  \n",
       "25%       0.624499  \n",
       "50%       1.224499  \n",
       "75%       1.974500  \n",
       "max       7.225500  "
      ]
     },
     "execution_count": 8,
     "metadata": {},
     "output_type": "execute_result"
    }
   ],
   "source": [
    "print(Paris_past_forecast[\"abs_value\"].mean())\n",
    "Paris_past_forecast.describe()"
   ]
  },
  {
   "cell_type": "code",
   "execution_count": 9,
   "metadata": {},
   "outputs": [
    {
     "data": {
      "image/png": "[encoded data removed]",
      "text/plain": [
       "<Figure size 640x480 with 1 Axes>"
      ]
     },
     "metadata": {},
     "output_type": "display_data"
    }
   ],
   "source": [
    "x = Paris_past_forecast[\"date\"].head(24)\n",
    "y1 = Paris_past_forecast[\"real temperature 2m\"].head(24)\n",
    "\n",
    "\n",
    "fig = plt.figure()\n",
    "\n",
    "# Scatter plot the points\n",
    "plt.scatter(x, y1, c='r', marker=',')\n",
    "\n",
    "\n",
    "# Set labels\n",
    "plt.xlabel('X axis')\n",
    "plt.ylabel('Y axis')\n",
    "\n",
    "\n",
    "plt.show()"
   ]
  },
  {
   "cell_type": "code",
   "execution_count": 10,
   "metadata": {},
   "outputs": [
    {
     "data": {
      "image/png": "[encoded data removed]",
      "text/plain": [
       "<Figure size 640x480 with 1 Axes>"
      ]
     },
     "metadata": {},
     "output_type": "display_data"
    }
   ],
   "source": [
    "x = Paris_past_forecast[\"date\"].head(100)\n",
    "y1 = Paris_past_forecast[\"real temperature 2m\"].head(100)\n",
    "y2 = Paris_past_forecast[\"temperature_2m\"].head(100)\n",
    "\n",
    "fig = plt.figure()\n",
    "\n",
    "# Scatter plot the points\n",
    "plt.scatter(x, y1, c='r', marker=',')\n",
    "plt.scatter(x, y2, c='b', marker=',')\n",
    "\n",
    "# Set labels\n",
    "plt.xlabel('X axis')\n",
    "plt.ylabel('Y axis')\n",
    "\n",
    "\n",
    "plt.show()"
   ]
  }
 ],
 "metadata": {
  "kernelspec": {
   "display_name": "Python 3",
   "language": "python",
   "name": "python3"
  },
  "language_info": {
   "codemirror_mode": {
    "name": "ipython",
    "version": 3
   },
   "file_extension": ".py",
   "mimetype": "text/x-python",
   "name": "python",
   "nbconvert_exporter": "python",
   "pygments_lexer": "ipython3",
   "version": "3.10.11"
  }
 },
 "nbformat": 4,
 "nbformat_minor": 2
}
