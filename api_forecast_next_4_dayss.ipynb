{
 "cells": [
  {
   "cell_type": "code",
   "execution_count": 1,
   "metadata": {},
   "outputs": [],
   "source": [
    "import openmeteo_requests\n",
    "\n",
    "import requests_cache\n",
    "import pandas as pd\n",
    "from retry_requests import retry\n"
   ]
  },
  {
   "cell_type": "code",
   "execution_count": 2,
   "metadata": {},
   "outputs": [],
   "source": [
    "# Setup the Open-Meteo API client with cache and retry on error\n",
    "cache_session = requests_cache.CachedSession('.cache', expire_after = 3600)\n",
    "retry_session = retry(cache_session, retries = 5, backoff_factor = 0.2)\n",
    "openmeteo = openmeteo_requests.Client(session = retry_session)"
   ]
  },
  {
   "cell_type": "code",
   "execution_count": 3,
   "metadata": {},
   "outputs": [],
   "source": [
    "forcast_france=pd.DataFrame({})"
   ]
  },
  {
   "cell_type": "code",
   "execution_count": 4,
   "metadata": {},
   "outputs": [],
   "source": [
    "\t# Make sure all required weather variables are listed here\n",
    "\t# The order of variables in hourly or daily is important to assign them correctly below\n",
    "for i in range(50,55,1):\n",
    "\t\tfor j in range(-1,5,1):\n",
    "\t\t\turl = \"https://api.open-meteo.com/v1/forecast\"\n",
    "\t\t\tparams = {\n",
    "\t\t\t\t\"latitude\": i,\n",
    "\t\t\t\t\"longitude\": j,\n",
    "\t\t\t\t\"hourly\": \"temperature_2m\",\n",
    "\t\t\t\t\"models\": \"meteofrance_arome_france\"\n",
    "\t\t\t}\n",
    "\t\t\tresponses = openmeteo.weather_api(url, params=params)\n",
    "\t\t\t# Process first location. Add a for-loop for multiple locations or weather models\n",
    "\t\t\tresponse = responses[0]\n",
    "\t\t\t# Process hourly data. The order of variables needs to be the same as requested.\n",
    "\t\t\thourly = response.Hourly()\n",
    "\t\t\thourly_temperature_2m = hourly.Variables(0).ValuesAsNumpy()\n",
    "\n",
    "\t\t\thourly_data = {\"date\": pd.date_range(\n",
    "\t\t\t\tstart = pd.to_datetime(hourly.Time(), unit = \"s\", utc = True),\n",
    "\t\t\t\tend = pd.to_datetime(hourly.TimeEnd(), unit = \"s\", utc = True),\n",
    "\t\t\t\tfreq = pd.Timedelta(seconds = hourly.Interval()),\n",
    "\t\t\t\tinclusive = \"left\"\n",
    "\t\t\t)}\n",
    "\t\t\thourly_data[\"temperature_2m\"] = hourly_temperature_2m\n",
    "\t\t\t\n",
    "\t\t\thourly_dataframe = pd.DataFrame(data = hourly_data)\n",
    "\t\t\t\n",
    "\n",
    "\t\t\tnom='hourly_temperature_2m'+str(i)+str(j)+'.csv'\n",
    "\n",
    "\t\t\thourly_dataframe.to_csv(nom)\n",
    "\n",
    "\t\t\t\n",
    "\n"
   ]
  },
  {
   "cell_type": "code",
   "execution_count": 5,
   "metadata": {},
   "outputs": [
    {
     "name": "stdout",
     "output_type": "stream",
     "text": [
      "    Unnamed: 0                       date  temperature_2m\n",
      "0            0  2024-12-07 00:00:00+00:00        7.513000\n",
      "1            1  2024-12-07 01:00:00+00:00        8.063000\n",
      "2            2  2024-12-07 02:00:00+00:00        8.513000\n",
      "3            3  2024-12-07 03:00:00+00:00        8.613000\n",
      "4            4  2024-12-07 04:00:00+00:00        8.763000\n",
      "5            5  2024-12-07 05:00:00+00:00       10.013000\n",
      "6            6  2024-12-07 06:00:00+00:00       11.063000\n",
      "7            7  2024-12-07 07:00:00+00:00       10.313000\n",
      "8            8  2024-12-07 08:00:00+00:00        9.863000\n",
      "9            9  2024-12-07 09:00:00+00:00        9.013000\n",
      "10          10  2024-12-07 10:00:00+00:00        8.613000\n",
      "11          11  2024-12-07 11:00:00+00:00        9.162999\n",
      "12          12  2024-12-07 12:00:00+00:00        8.662999\n",
      "13          13  2024-12-07 13:00:00+00:00        8.013000\n",
      "14          14  2024-12-07 14:00:00+00:00        7.713000\n",
      "15          15  2024-12-07 15:00:00+00:00        7.713000\n",
      "16          16  2024-12-07 16:00:00+00:00        6.563000\n",
      "17          17  2024-12-07 17:00:00+00:00        6.113000\n",
      "18          18  2024-12-07 18:00:00+00:00        7.413000\n",
      "19          19  2024-12-07 19:00:00+00:00        7.713000\n"
     ]
    }
   ],
   "source": [
    "\n",
    "data_frame_test = pd.read_csv('hourly_temperature_2m513.csv')\n",
    "print(data_frame_test.head(20))"
   ]
  },
  {
   "cell_type": "code",
   "execution_count": null,
   "metadata": {},
   "outputs": [],
   "source": [
    "\n"
   ]
  },
  {
   "cell_type": "code",
   "execution_count": null,
   "metadata": {},
   "outputs": [],
   "source": [
    "print(hourly_dataframe.head(50))"
   ]
  }
 ],
 "metadata": {
  "kernelspec": {
   "display_name": "Python 3",
   "language": "python",
   "name": "python3"
  },
  "language_info": {
   "codemirror_mode": {
    "name": "ipython",
    "version": 3
   },
   "file_extension": ".py",
   "mimetype": "text/x-python",
   "name": "python",
   "nbconvert_exporter": "python",
   "pygments_lexer": "ipython3",
   "version": "3.10.11"
  }
 },
 "nbformat": 4,
 "nbformat_minor": 2
}
