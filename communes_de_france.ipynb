{
 "cells": [
  {
   "cell_type": "code",
   "execution_count": 2,
   "metadata": {},
   "outputs": [],
   "source": [
    "import openmeteo_requests\n",
    "import numpy as np\n",
    "import requests_cache\n",
    "import pandas as pd\n",
    "from retry_requests import retry\n",
    "import requests\n",
    "import time "
   ]
  },
  {
   "cell_type": "code",
   "execution_count": 3,
   "metadata": {},
   "outputs": [],
   "source": [
    "commune_de_france=requests.get('https://www.data.gouv.fr/fr/datasets/r/dbe8a621-a9c4-4bc3-9cae-be1699c5ff25')\n",
    "with open(\"communes_de_france.csv\", \"wb\") as f:\n",
    "    f.write(commune_de_france.content)\n",
    "\n",
    "communes_de_france = pd.read_csv('communes_de_france.csv')\n",
    "communes_de_france[\"latitude\"].dropna(inplace=True)\n",
    "communes_de_france[\"longitude\"].dropna(inplace=True)\n",
    "\n",
    "communes_de_france_partie1 = communes_de_france.iloc[:2500]\n",
    "communes_de_france_partie1_1 = communes_de_france.iloc[2501:5000]\n",
    "communes_de_france_partie1bis = communes_de_france.iloc[5001:7500]\n",
    "communes_de_france_partie1ter = communes_de_france.iloc[7501:10000]\n",
    "\n",
    "communes_de_france_partie2 = communes_de_france.iloc[10001:12500] \n",
    "communes_de_france_partie2bis = communes_de_france.iloc[12501:15000] \n",
    "communes_de_france_partie2ter = communes_de_france.iloc[15001:17500] \n",
    "communes_de_france_partie2quer = communes_de_france.iloc[17501:20000] \n",
    "\n",
    "communes_de_france_partie3 = communes_de_france.iloc[20001:30000] \n",
    "communes_de_france_partie4 = communes_de_france.iloc[30001:] \n"
   ]
  },
  {
   "cell_type": "markdown",
   "metadata": {},
   "source": [
    "températures prédites en 2023 pour les communes de France"
   ]
  },
  {
   "cell_type": "code",
   "execution_count": null,
   "metadata": {},
   "outputs": [],
   "source": [
    "data_frame_storage_past_forecast=pd.DataFrame(columns=['date','temperature_2m', 'latitude', \"longitude\"])\n",
    "\t\t# Setup the Open-Meteo API client with cache and retry on error\n",
    "for i in range(len(communes_de_france_partie2ter)):\n",
    "\t\t\t\tcache_session = requests_cache.CachedSession('.cache', expire_after = 3600)\n",
    "\t\t\t\tretry_session = retry(cache_session, retries = 5, backoff_factor = 0.2)\n",
    "\t\t\t\topenmeteo = openmeteo_requests.Client(session = retry_session)\n",
    "\n",
    "\t\t\t\t# Make sure all required weather variables are listed here\n",
    "\t\t\t\t# The order of variables in hourly or daily is important to assign them correctly below\n",
    "\t\t\t\turl = \"https://historical-forecast-api.open-meteo.com/v1/forecast\"\n",
    "\t\t\t\tparams = {\n",
    "\t\t\t\t\t\"latitude\": communes_de_france_partie2ter[\"latitude\"].iloc[i],\n",
    "\t\t\t\t\t\"longitude\": communes_de_france_partie2ter[\"longitude\"].iloc[i],\n",
    "\t\t\t\t\t\"start_date\": \"2023-01-01\",\n",
    "\t\t\t\t\t\"end_date\": \"2023-12-31\",\n",
    "\t\t\t\t\t\"hourly\": \"temperature_2m\",\n",
    "\t\t\t\t\t\"models\": \"meteofrance_seamless\"\n",
    "\t\t\t\t}\n",
    "\t\t\t\tresponses = openmeteo.weather_api(url, params=params)\n",
    "\t\t\t\t\t\t\t\t# Process first location. Add a for-loop for multiple locations or weather models\n",
    "\t\t\t\tresponse = responses[0]\n",
    "\t\t\t\t# Process hourly data. The order of variables needs to be the same as requested.\n",
    "\t\t\t\thourly = response.Hourly()\n",
    "\t\t\t\thourly_temperature_2m = hourly.Variables(0).ValuesAsNumpy()\n",
    "\n",
    "\t\t\t\thourly_data = {\"date\": pd.date_range(\n",
    "\t\t\t\t\tstart = pd.to_datetime(hourly.Time(), unit = \"s\", utc = True),\n",
    "\t\t\t\t\tend = pd.to_datetime(hourly.TimeEnd(), unit = \"s\", utc = True),\n",
    "\t\t\t\t\tfreq = pd.Timedelta(seconds = hourly.Interval()),\n",
    "\t\t\t\t\tinclusive = \"left\"\n",
    "\t\t\t\t)}\n",
    "\t\t\t\thourly_data[\"temperature_2m\"] = hourly_temperature_2m\n",
    "\n",
    "\n",
    "\t\t\t\thourly_dataframe = pd.DataFrame(data = hourly_data)\n",
    "\t\t\t\thourly_dataframe.dropna(inplace=True)\n",
    "\t\t\t\thourly_dataframe[\"latitude\"] = [communes_de_france_partie2ter[\"latitude\"].iloc[i] for k in range(len(hourly_dataframe))]\n",
    "\t\t\t\thourly_dataframe[\"longitude\"] = [communes_de_france_partie2ter[\"longitude\"].iloc[i] for k in range(len(hourly_dataframe))]\n",
    "\t\t\t\tdata_frame_storage_past_forecast = pd.concat([data_frame_storage_past_forecast, hourly_dataframe], axis=0)\n",
    "\t\t\t\ttime.sleep(0.2)\n",
    "\n",
    "\n",
    "nom='france_communes_hourly_past_predicted_temperature_2m_2023_partie2ter.csv'\n",
    "data_frame_storage_past_forecast.to_csv(nom)"
   ]
  },
  {
   "cell_type": "code",
   "execution_count": 16,
   "metadata": {},
   "outputs": [
    {
     "ename": "OpenMeteoRequestsError",
     "evalue": "{'reason': 'Daily API request limit exceeded. Please try again tomorrow.', 'error': True}",
     "output_type": "error",
     "traceback": [
      "\u001b[1;31m---------------------------------------------------------------------------\u001b[0m",
      "\u001b[1;31mOpenMeteoRequestsError\u001b[0m                    Traceback (most recent call last)",
      "Cell \u001b[1;32mIn[16], line 18\u001b[0m\n\u001b[0;32m     10\u001b[0m     url \u001b[38;5;241m=\u001b[39m \u001b[38;5;124m\"\u001b[39m\u001b[38;5;124mhttps://archive-api.open-meteo.com/v1/archive\u001b[39m\u001b[38;5;124m\"\u001b[39m\n\u001b[0;32m     11\u001b[0m     params \u001b[38;5;241m=\u001b[39m {\n\u001b[0;32m     12\u001b[0m \t\t\t\u001b[38;5;124m\"\u001b[39m\u001b[38;5;124mlatitude\u001b[39m\u001b[38;5;124m\"\u001b[39m: communes_de_france_partie2[\u001b[38;5;124m\"\u001b[39m\u001b[38;5;124mlatitude\u001b[39m\u001b[38;5;124m\"\u001b[39m]\u001b[38;5;241m.\u001b[39miloc[i],\n\u001b[0;32m     13\u001b[0m \t\t\t\u001b[38;5;124m\"\u001b[39m\u001b[38;5;124mlongitude\u001b[39m\u001b[38;5;124m\"\u001b[39m: communes_de_france_partie2[\u001b[38;5;124m\"\u001b[39m\u001b[38;5;124mlongitude\u001b[39m\u001b[38;5;124m\"\u001b[39m]\u001b[38;5;241m.\u001b[39miloc[i],\n\u001b[1;32m   (...)\u001b[0m\n\u001b[0;32m     16\u001b[0m \t\t\t\u001b[38;5;124m\"\u001b[39m\u001b[38;5;124mhourly\u001b[39m\u001b[38;5;124m\"\u001b[39m: \u001b[38;5;124m\"\u001b[39m\u001b[38;5;124mtemperature_2m\u001b[39m\u001b[38;5;124m\"\u001b[39m\n\u001b[0;32m     17\u001b[0m     }\n\u001b[1;32m---> 18\u001b[0m     responses \u001b[38;5;241m=\u001b[39m \u001b[43mopenmeteo\u001b[49m\u001b[38;5;241;43m.\u001b[39;49m\u001b[43mweather_api\u001b[49m\u001b[43m(\u001b[49m\u001b[43murl\u001b[49m\u001b[43m,\u001b[49m\u001b[43m \u001b[49m\u001b[43mparams\u001b[49m\u001b[38;5;241;43m=\u001b[39;49m\u001b[43mparams\u001b[49m\u001b[43m)\u001b[49m\n\u001b[0;32m     20\u001b[0m     \u001b[38;5;66;03m# Process first location. Add a for-loop for multiple locations or weather models\u001b[39;00m\n\u001b[0;32m     21\u001b[0m     response \u001b[38;5;241m=\u001b[39m responses[\u001b[38;5;241m0\u001b[39m]\n",
      "File \u001b[1;32mc:\\Users\\tsang\\AppData\\Local\\Programs\\Python\\Python310\\lib\\site-packages\\openmeteo_requests\\Client.py:54\u001b[0m, in \u001b[0;36mClient.weather_api\u001b[1;34m(self, url, params, method, verify)\u001b[0m\n\u001b[0;32m     50\u001b[0m \u001b[38;5;28;01mdef\u001b[39;00m \u001b[38;5;21mweather_api\u001b[39m(\n\u001b[0;32m     51\u001b[0m     \u001b[38;5;28mself\u001b[39m, url: \u001b[38;5;28mstr\u001b[39m, params: \u001b[38;5;28many\u001b[39m, method: \u001b[38;5;28mstr\u001b[39m \u001b[38;5;241m=\u001b[39m \u001b[38;5;124m\"\u001b[39m\u001b[38;5;124mGET\u001b[39m\u001b[38;5;124m\"\u001b[39m, verify: \u001b[38;5;28mbool\u001b[39m \u001b[38;5;241m|\u001b[39m \u001b[38;5;28mstr\u001b[39m \u001b[38;5;241m|\u001b[39m \u001b[38;5;28;01mNone\u001b[39;00m \u001b[38;5;241m=\u001b[39m \u001b[38;5;28;01mNone\u001b[39;00m\n\u001b[0;32m     52\u001b[0m ) \u001b[38;5;241m-\u001b[39m\u001b[38;5;241m>\u001b[39m \u001b[38;5;28mlist\u001b[39m[WeatherApiResponse]:\n\u001b[0;32m     53\u001b[0m \u001b[38;5;250m    \u001b[39m\u001b[38;5;124;03m\"\"\"Get and decode as weather api\"\"\"\u001b[39;00m\n\u001b[1;32m---> 54\u001b[0m     \u001b[38;5;28;01mreturn\u001b[39;00m \u001b[38;5;28;43mself\u001b[39;49m\u001b[38;5;241;43m.\u001b[39;49m\u001b[43m_get\u001b[49m\u001b[43m(\u001b[49m\u001b[43mWeatherApiResponse\u001b[49m\u001b[43m,\u001b[49m\u001b[43m \u001b[49m\u001b[43murl\u001b[49m\u001b[43m,\u001b[49m\u001b[43m \u001b[49m\u001b[43mparams\u001b[49m\u001b[43m,\u001b[49m\u001b[43m \u001b[49m\u001b[43mmethod\u001b[49m\u001b[43m,\u001b[49m\u001b[43m \u001b[49m\u001b[43mverify\u001b[49m\u001b[43m)\u001b[49m\n",
      "File \u001b[1;32mc:\\Users\\tsang\\AppData\\Local\\Programs\\Python\\Python310\\lib\\site-packages\\openmeteo_requests\\Client.py:35\u001b[0m, in \u001b[0;36mClient._get\u001b[1;34m(self, cls, url, params, method, verify)\u001b[0m\n\u001b[0;32m     33\u001b[0m \u001b[38;5;28;01mif\u001b[39;00m response\u001b[38;5;241m.\u001b[39mstatus_code \u001b[38;5;129;01min\u001b[39;00m [\u001b[38;5;241m400\u001b[39m, \u001b[38;5;241m429\u001b[39m]:\n\u001b[0;32m     34\u001b[0m     response_body \u001b[38;5;241m=\u001b[39m response\u001b[38;5;241m.\u001b[39mjson()\n\u001b[1;32m---> 35\u001b[0m     \u001b[38;5;28;01mraise\u001b[39;00m OpenMeteoRequestsError(response_body)\n\u001b[0;32m     37\u001b[0m response\u001b[38;5;241m.\u001b[39mraise_for_status()\n\u001b[0;32m     39\u001b[0m data \u001b[38;5;241m=\u001b[39m response\u001b[38;5;241m.\u001b[39mcontent\n",
      "\u001b[1;31mOpenMeteoRequestsError\u001b[0m: {'reason': 'Daily API request limit exceeded. Please try again tomorrow.', 'error': True}"
     ]
    }
   ],
   "source": [
    "data_frame_storage_past_forecast=pd.DataFrame(columns=['date','temperature_2m', 'latitude', \"longitude\"])\n",
    "# Setup the Open-Meteo API client with cache and retry on error\n",
    "for i in range(len(communes_de_france_partie2)):\n",
    "    cache_session = requests_cache.CachedSession('.cache', expire_after = -1)\n",
    "    retry_session = retry(cache_session, retries = 5, backoff_factor = 0.2)\n",
    "    openmeteo = openmeteo_requests.Client(session = retry_session)\n",
    "\n",
    "    # Make sure all required weather variables are listed here\n",
    "    # The order of variables in hourly or daily is important to assign them correctly below\n",
    "    url = \"https://archive-api.open-meteo.com/v1/archive\"\n",
    "    params = {\n",
    "\t\t\t\"latitude\": communes_de_france_partie2[\"latitude\"].iloc[i],\n",
    "\t\t\t\"longitude\": communes_de_france_partie2[\"longitude\"].iloc[i],\n",
    "\t\t\t\"start_date\": \"2023-01-01\",\n",
    "\t\t\t\"end_date\": \"2023-12-31\",\n",
    "\t\t\t\"hourly\": \"temperature_2m\"\n",
    "    }\n",
    "    responses = openmeteo.weather_api(url, params=params)\n",
    "\n",
    "    # Process first location. Add a for-loop for multiple locations or weather models\n",
    "    response = responses[0]\n",
    "    # Process hourly data. The order of variables needs to be the same as requested.\n",
    "    hourly = response.Hourly()\n",
    "    hourly_temperature_2m = hourly.Variables(0).ValuesAsNumpy()\n",
    "\n",
    "    hourly_data = {\"date\": pd.date_range(\n",
    "        start = pd.to_datetime(hourly.Time(), unit = \"s\", utc = True),\n",
    "        end = pd.to_datetime(hourly.TimeEnd(), unit = \"s\", utc = True),\n",
    "        freq = pd.Timedelta(seconds = hourly.Interval()),\n",
    "        inclusive = \"left\"\n",
    "    )}\n",
    "    hourly_data[\"temperature_2m\"] = hourly_temperature_2m\n",
    "\n",
    "    hourly_dataframe = pd.DataFrame(data = hourly_data)\n",
    "    hourly_dataframe.dropna(inplace=True)\n",
    "    hourly_dataframe[\"latitude\"] = [communes_de_france_partie2[\"latitude\"].iloc[i] for k in range(len(hourly_dataframe))]\n",
    "    hourly_dataframe[\"longitude\"] = [communes_de_france_partie2[\"longitude\"].iloc[i] for k in range(len(hourly_dataframe))]\n",
    "    data_frame_storage_past_forecast = pd.concat([data_frame_storage_past_forecast, hourly_dataframe], axis=0)\n",
    "    time.sleep(1)\n",
    "\n",
    "nom='france_communes_hourly_past_real_temperature_2m_2023_partie2.csv'\n",
    "data_frame_storage_past_forecast.to_csv(nom)\n",
    "\n",
    "\n",
    "\n"
   ]
  },
  {
   "cell_type": "code",
   "execution_count": 6,
   "metadata": {},
   "outputs": [],
   "source": [
    "nom='france_communes_hourly_past_real_temperature_2m_2023_partie1.csv'\n",
    "data_frame_storage_past_forecast.to_csv(nom)"
   ]
  },
  {
   "cell_type": "code",
   "execution_count": 7,
   "metadata": {},
   "outputs": [],
   "source": [
    "communes_de_france_part1_predicted = pd.read_csv('france_communes_hourly_past_predicted_temperature_2m_2023_partie1.csv')\n",
    "communes_de_france_part1_real = pd.read_csv('france_communes_hourly_past_real_temperature_2m_2023_partie1.csv')\n"
   ]
  }
 ],
 "metadata": {
  "kernelspec": {
   "display_name": "Python 3",
   "language": "python",
   "name": "python3"
  },
  "language_info": {
   "codemirror_mode": {
    "name": "ipython",
    "version": 3
   },
   "file_extension": ".py",
   "mimetype": "text/x-python",
   "name": "python",
   "nbconvert_exporter": "python",
   "pygments_lexer": "ipython3",
   "version": "3.10.11"
  }
 },
 "nbformat": 4,
 "nbformat_minor": 2
}
