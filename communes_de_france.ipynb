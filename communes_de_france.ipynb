{
 "cells": [
  {
   "cell_type": "code",
   "execution_count": 1,
   "metadata": {},
   "outputs": [],
   "source": [
    "import openmeteo_requests\n",
    "import numpy as np\n",
    "import requests_cache\n",
    "import pandas as pd\n",
    "from retry_requests import retry\n",
    "import requests"
   ]
  },
  {
   "cell_type": "code",
   "execution_count": 2,
   "metadata": {},
   "outputs": [
    {
     "name": "stdout",
     "output_type": "stream",
     "text": [
      "      code_commune_INSEE    nom_commune_postal  code_postal  \\\n",
      "208                 1204  LE POIZAT LALLEYRIAT         1130   \n",
      "760                 2307        LA FERTE MILON         2460   \n",
      "886                 2439       LES SEPTVALLONS         2160   \n",
      "887                 2439       LES SEPTVALLONS         2160   \n",
      "888                 2439       LES SEPTVALLONS         2160   \n",
      "...                  ...                   ...          ...   \n",
      "38902              97422             LE TAMPON        97418   \n",
      "38903              97422             LE TAMPON        97418   \n",
      "38905              97422             LE TAMPON        97430   \n",
      "38906              97422             LE TAMPON        97430   \n",
      "38907              97422             LE TAMPON        97430   \n",
      "\n",
      "       libelle_acheminement               ligne_5   latitude  longitude  \\\n",
      "208    LE POIZAT LALLEYRIAT             LE POIZAT  46.147959   5.718292   \n",
      "760          LA FERTE MILON                MOSLOY  49.175987   3.142376   \n",
      "886         LES SEPTVALLONS             BARBONVAL  49.360336   3.655678   \n",
      "887         LES SEPTVALLONS               GLENNES  49.360336   3.655678   \n",
      "888         LES SEPTVALLONS   LONGUEVAL BARBONVAL  49.360336   3.655678   \n",
      "...                     ...                   ...        ...        ...   \n",
      "38902             LE TAMPON  LA PLAINE DES CAFRES -21.223275  55.558488   \n",
      "38903             LE TAMPON       TAMPON 17EME KM -21.223275  55.558488   \n",
      "38905             LE TAMPON       LES TROIS MARES -21.223275  55.558488   \n",
      "38906             LE TAMPON           PONT D YVES -21.223275  55.558488   \n",
      "38907             LE TAMPON       TAMPON 14EME KM -21.223275  55.558488   \n",
      "\n",
      "       code_commune article        nom_commune   nom_commune_complet  \\\n",
      "208           204.0      Le  Poizat-Lalleyriat  Le Poizat-Lalleyriat   \n",
      "760           307.0      La        Ferté-Milon        La Ferté-Milon   \n",
      "886           439.0     Les        Septvallons       Les Septvallons   \n",
      "887           439.0     Les        Septvallons       Les Septvallons   \n",
      "888           439.0     Les        Septvallons       Les Septvallons   \n",
      "...             ...     ...                ...                   ...   \n",
      "38902          22.0      Le             Tampon             Le Tampon   \n",
      "38903          22.0      Le             Tampon             Le Tampon   \n",
      "38905          22.0      Le             Tampon             Le Tampon   \n",
      "38906          22.0      Le             Tampon             Le Tampon   \n",
      "38907          22.0      Le             Tampon             Le Tampon   \n",
      "\n",
      "      code_departement nom_departement  code_region            nom_region  \n",
      "208                  1             Ain         84.0  Auvergne-Rhône-Alpes  \n",
      "760                  2           Aisne         32.0       Hauts-de-France  \n",
      "886                  2           Aisne         32.0       Hauts-de-France  \n",
      "887                  2           Aisne         32.0       Hauts-de-France  \n",
      "888                  2           Aisne         32.0       Hauts-de-France  \n",
      "...                ...             ...          ...                   ...  \n",
      "38902              974      La Réunion          4.0            La Réunion  \n",
      "38903              974      La Réunion          4.0            La Réunion  \n",
      "38905              974      La Réunion          4.0            La Réunion  \n",
      "38906              974      La Réunion          4.0            La Réunion  \n",
      "38907              974      La Réunion          4.0            La Réunion  \n",
      "\n",
      "[276 rows x 15 columns]\n"
     ]
    }
   ],
   "source": [
    "commune_de_france=requests.get('https://www.data.gouv.fr/fr/datasets/r/dbe8a621-a9c4-4bc3-9cae-be1699c5ff25')\n",
    "with open(\"communes_de_france.csv\", \"wb\") as f:\n",
    "    f.write(commune_de_france.content)\n",
    "\n",
    "communes_de_france = pd.read_csv('communes_de_france.csv')\n",
    "communes_de_france.dropna(inplace=True)\n",
    "print(communes_de_france)"
   ]
  }
 ],
 "metadata": {
  "kernelspec": {
   "display_name": "Python 3",
   "language": "python",
   "name": "python3"
  },
  "language_info": {
   "codemirror_mode": {
    "name": "ipython",
    "version": 3
   },
   "file_extension": ".py",
   "mimetype": "text/x-python",
   "name": "python",
   "nbconvert_exporter": "python",
   "pygments_lexer": "ipython3",
   "version": "3.10.11"
  }
 },
 "nbformat": 4,
 "nbformat_minor": 2
}
