{
 "cells": [
  {
   "cell_type": "code",
   "execution_count": 1,
   "metadata": {},
   "outputs": [],
   "source": [
    "import openmeteo_requests\n",
    "import numpy as np\n",
    "import requests_cache\n",
    "import pandas as pd\n",
    "from retry_requests import retry\n",
    "import requests\n",
    "import time "
   ]
  },
  {
   "cell_type": "code",
   "execution_count": 2,
   "metadata": {},
   "outputs": [],
   "source": [
    "commune_de_france=requests.get('https://www.data.gouv.fr/fr/datasets/r/dbe8a621-a9c4-4bc3-9cae-be1699c5ff25')\n",
    "with open(\"communes_de_france.csv\", \"wb\") as f:\n",
    "    f.write(commune_de_france.content)\n",
    "\n",
    "communes_de_france = pd.read_csv('communes_de_france.csv')\n",
    "communes_de_france[\"latitude\"].dropna(inplace=True)\n",
    "communes_de_france[\"longitude\"].dropna(inplace=True)\n",
    "\n",
    "communes_de_france_partie1 = communes_de_france.iloc[:5000]\n",
    "communes_de_france_partie1bis = communes_de_france.iloc[5001:10000]\n",
    "communes_de_france_partie2 = communes_de_france.iloc[100001:20000] \n",
    "communes_de_france_partie3 = communes_de_france.iloc[20001:30000] \n",
    "communes_de_france_partie4 = communes_de_france.iloc[30001:] \n"
   ]
  },
  {
   "cell_type": "markdown",
   "metadata": {},
   "source": [
    "températures prédites en 2023 pour les communes de France"
   ]
  },
  {
   "cell_type": "code",
   "execution_count": null,
   "metadata": {},
   "outputs": [],
   "source": [
    "data_frame_storage_past_forecast=pd.DataFrame(columns=['date','temperature_2m', 'latitude', \"longitude\"])\n",
    "\t\t# Setup the Open-Meteo API client with cache and retry on error\n",
    "for i in range(len(communes_de_france_partie1)):\n",
    "\t\t\t\tcache_session = requests_cache.CachedSession('.cache', expire_after = 3600)\n",
    "\t\t\t\tretry_session = retry(cache_session, retries = 5, backoff_factor = 0.2)\n",
    "\t\t\t\topenmeteo = openmeteo_requests.Client(session = retry_session)\n",
    "\n",
    "\t\t\t\t# Make sure all required weather variables are listed here\n",
    "\t\t\t\t# The order of variables in hourly or daily is important to assign them correctly below\n",
    "\t\t\t\turl = \"https://historical-forecast-api.open-meteo.com/v1/forecast\"\n",
    "\t\t\t\tparams = {\n",
    "\t\t\t\t\t\"latitude\": communes_de_france_partie1[\"latitude\"].iloc[i],\n",
    "\t\t\t\t\t\"longitude\": communes_de_france_partie1[\"longitude\"].iloc[i],\n",
    "\t\t\t\t\t\"start_date\": \"2023-01-01\",\n",
    "\t\t\t\t\t\"end_date\": \"2023-12-31\",\n",
    "\t\t\t\t\t\"hourly\": \"temperature_2m\",\n",
    "\t\t\t\t\t\"models\": \"meteofrance_seamless\"\n",
    "\t\t\t\t}\n",
    "\t\t\t\tresponses = openmeteo.weather_api(url, params=params)\n",
    "\t\t\t\t\t\t\t\t# Process first location. Add a for-loop for multiple locations or weather models\n",
    "\t\t\t\tresponse = responses[0]\n",
    "\t\t\t\t# Process hourly data. The order of variables needs to be the same as requested.\n",
    "\t\t\t\thourly = response.Hourly()\n",
    "\t\t\t\thourly_temperature_2m = hourly.Variables(0).ValuesAsNumpy()\n",
    "\n",
    "\t\t\t\thourly_data = {\"date\": pd.date_range(\n",
    "\t\t\t\t\tstart = pd.to_datetime(hourly.Time(), unit = \"s\", utc = True),\n",
    "\t\t\t\t\tend = pd.to_datetime(hourly.TimeEnd(), unit = \"s\", utc = True),\n",
    "\t\t\t\t\tfreq = pd.Timedelta(seconds = hourly.Interval()),\n",
    "\t\t\t\t\tinclusive = \"left\"\n",
    "\t\t\t\t)}\n",
    "\t\t\t\thourly_data[\"temperature_2m\"] = hourly_temperature_2m\n",
    "\n",
    "\n",
    "\t\t\t\thourly_dataframe = pd.DataFrame(data = hourly_data)\n",
    "\t\t\t\thourly_dataframe.dropna(inplace=True)\n",
    "\t\t\t\thourly_dataframe[\"latitude\"] = [communes_de_france_partie1[\"latitude\"].iloc[i] for k in range(len(hourly_dataframe))]\n",
    "\t\t\t\thourly_dataframe[\"longitude\"] = [communes_de_france_partie1[\"longitude\"].iloc[i] for k in range(len(hourly_dataframe))]\n",
    "\t\t\t\tdata_frame_storage_past_forecast = pd.concat([data_frame_storage_past_forecast, hourly_dataframe], axis=0)\n",
    "\t\t\t\ttime.sleep(1)\n",
    "\n",
    "\n",
    "nom='france_communes_hourly_past_predicted_temperature_2m_2023.csv'\n",
    "data_frame_storage_past_forecast.to_csv(nom)"
   ]
  },
  {
   "cell_type": "code",
   "execution_count": null,
   "metadata": {},
   "outputs": [],
   "source": []
  }
 ],
 "metadata": {
  "kernelspec": {
   "display_name": "Python 3",
   "language": "python",
   "name": "python3"
  },
  "language_info": {
   "codemirror_mode": {
    "name": "ipython",
    "version": 3
   },
   "file_extension": ".py",
   "mimetype": "text/x-python",
   "name": "python",
   "nbconvert_exporter": "python",
   "pygments_lexer": "ipython3",
   "version": "3.10.11"
  }
 },
 "nbformat": 4,
 "nbformat_minor": 2
}
