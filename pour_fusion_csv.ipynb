{
 "cells": [
  {
   "cell_type": "code",
   "execution_count": 2,
   "metadata": {},
   "outputs": [],
   "source": [
    "import pandas as pd\n",
    "import matplotlib.pyplot as plt\n",
    "from mpl_toolkits.mplot3d import Axes3D\n",
    "import numpy as np\n",
    "import geopandas as gpd\n",
    "from shapely.geometry import Point"
   ]
  },
  {
   "cell_type": "code",
   "execution_count": 4,
   "metadata": {},
   "outputs": [],
   "source": [
    "communes_de_france_temp_reelle1 = pd.read_csv('france_communes_hourly_past_real_temperature_2m_2023_partie1.csv')\n",
    "communes_de_france_temp_reelle1_1 = pd.read_csv('france_communes_hourly_past_real_temperature_2m_2023_partie1_1.csv')\n",
    "communes_de_france_temp_reelle1bis = pd.read_csv('france_communes_hourly_past_real_temperature_2m_2023_partie1bis-2010.csv')\n",
    "\n",
    "communes_de_france_temp_predite1 = pd.read_csv('france_communes_hourly_past_predicted_temperature_2m_2023_partie1.csv')\n",
    "communes_de_france_temp_predite1bis = pd.read_csv('france_communes_hourly_past_predicted_temperature_2m_2023_partie1bis.csv')\n",
    "\n",
    "\n"
   ]
  },
  {
   "cell_type": "code",
   "execution_count": 5,
   "metadata": {},
   "outputs": [
    {
     "name": "stdout",
     "output_type": "stream",
     "text": [
      "61407600\n",
      "65653745\n"
     ]
    }
   ],
   "source": [
    "communes_de_france_reelle1_concat = pd.concat([communes_de_france_temp_reelle1,communes_de_france_temp_reelle1_1,communes_de_france_temp_reelle1bis], axis=0)\n",
    "communes_de_france_predite1_concat = pd.concat([communes_de_france_temp_predite1,communes_de_france_temp_predite1bis], axis=0)\n",
    "\n",
    "print(len(communes_de_france_reelle1_concat))\n",
    "print(len(communes_de_france_predite1_concat))\n",
    "\n"
   ]
  },
  {
   "cell_type": "code",
   "execution_count": 7,
   "metadata": {},
   "outputs": [],
   "source": [
    "communes_de_france_reelle1_concat = communes_de_france_reelle1_concat.rename(columns={'temperature_2m': 'temperature_reelle_2m'})"
   ]
  },
  {
   "cell_type": "code",
   "execution_count": 9,
   "metadata": {},
   "outputs": [],
   "source": [
    "communes_de_france_reelle1_concat = communes_de_france_reelle1_concat.rename(columns={communes_de_france_reelle1_concat.columns[0]: 'compteur'})\n",
    "communes_de_france_reelle1_concat = communes_de_france_reelle1_concat[~(communes_de_france_reelle1_concat[\"compteur\"].isin([8743,8744,8745,8746,8747]))]"
   ]
  },
  {
   "cell_type": "code",
   "execution_count": null,
   "metadata": {},
   "outputs": [],
   "source": [
    "température1 = pd.merge(communes_de_france_predite1_concat,communes_de_france_reelle1_concat, on=['date', 'longitude', 'latitude'])\n",
    "print(len(température1))\n",
    "print(température1)"
   ]
  },
  {
   "cell_type": "code",
   "execution_count": 12,
   "metadata": {},
   "outputs": [],
   "source": [
    "communes_de_france_temp_reelle2 = pd.read_csv('france_communes_hourly_past_real_temperature_2m_2023_partie2.csv')\n",
    "communes_de_france_temp_reelle2bis = pd.read_csv('france_communes_hourly_past_real_temperature_2m_2023_partie2bis_13391.csv')\n",
    "\n",
    "communes_de_france_temp_predite2 = pd.read_csv('france_communes_hourly_past_predicted_temperature_2m_2023_partie2.csv')\n",
    "communes_de_france_temp_predite2bis = pd.read_csv('france_communes_hourly_past_predicted_temperature_2m_2023_partie2bis.csv')"
   ]
  },
  {
   "cell_type": "code",
   "execution_count": 13,
   "metadata": {},
   "outputs": [
    {
     "name": "stdout",
     "output_type": "stream",
     "text": [
      "29696400\n",
      "43757490\n"
     ]
    }
   ],
   "source": [
    "communes_de_france_reelle2_concat = pd.concat([communes_de_france_temp_reelle2,communes_de_france_temp_reelle2bis], axis=0)\n",
    "communes_de_france_predite2_concat = pd.concat([communes_de_france_temp_predite2,communes_de_france_temp_predite2bis], axis=0)\n",
    "\n",
    "print(len(communes_de_france_reelle2_concat))\n",
    "print(len(communes_de_france_predite2_concat))\n"
   ]
  },
  {
   "cell_type": "code",
   "execution_count": 14,
   "metadata": {},
   "outputs": [],
   "source": [
    "communes_de_france_reelle2_concat = communes_de_france_reelle2_concat.rename(columns={communes_de_france_reelle2_concat.columns[0]: 'compteur'})\n",
    "communes_de_france_reelle2_concat = communes_de_france_reelle2_concat[~(communes_de_france_reelle2_concat[\"compteur\"].isin([8743,8744,8745,8746,8747]))]"
   ]
  },
  {
   "cell_type": "code",
   "execution_count": null,
   "metadata": {},
   "outputs": [
    {
     "name": "stdout",
     "output_type": "stream",
     "text": [
      "39344970\n",
      "          Unnamed: 0                       date  temperature_2m   latitude  \\\n",
      "0                  0  2023-01-01 00:00:00+00:00         14.1760  46.153426   \n",
      "1                  1  2023-01-01 01:00:00+00:00         13.6260  46.153426   \n",
      "2                  2  2023-01-01 02:00:00+00:00         13.1760  46.153426   \n",
      "3                  3  2023-01-01 03:00:00+00:00         12.8760  46.153426   \n",
      "4                  4  2023-01-01 04:00:00+00:00         12.6260  46.153426   \n",
      "...              ...                        ...             ...        ...   \n",
      "86805820        8755  2023-12-31 19:00:00+00:00          6.1605  46.453394   \n",
      "86805821        8756  2023-12-31 20:00:00+00:00          6.3605  46.453394   \n",
      "86805822        8757  2023-12-31 21:00:00+00:00          6.4105  46.453394   \n",
      "86805823        8758  2023-12-31 22:00:00+00:00          6.2605  46.453394   \n",
      "86805824        8759  2023-12-31 23:00:00+00:00          6.0605  46.453394   \n",
      "\n",
      "          longitude  compteur  temperature_reelle_2m  \n",
      "0          4.926114         0              13.233999  \n",
      "1          4.926114         1              12.983999  \n",
      "2          4.926114         2              12.684000  \n",
      "3          4.926114         3              12.283999  \n",
      "4          4.926114         4              12.134000  \n",
      "...             ...       ...                    ...  \n",
      "86805820   2.252918      8755               5.666500  \n",
      "86805821   2.252918      8756               5.616500  \n",
      "86805822   2.252918      8757               5.466500  \n",
      "86805823   2.252918      8758               5.416500  \n",
      "86805824   2.252918      8759               5.116500  \n",
      "\n",
      "[86805825 rows x 7 columns]\n"
     ]
    }
   ],
   "source": [
    "température2 = pd.merge(communes_de_france_predite2_concat,communes_de_france_reelle2_concat, on=['date', 'longitude', 'latitude'])\n",
    "print(len(température2))\n",
    "print(température2)"
   ]
  },
  {
   "cell_type": "code",
   "execution_count": 17,
   "metadata": {},
   "outputs": [],
   "source": [
    "communes_de_france_temp_reelle3 = pd.read_csv('france_communes_hourly_past_real_temperature_2m_2023_partie3_2184.csv')\n",
    "communes_de_france_temp_reelle3bis = pd.read_csv('france_communes_hourly_past_real_temperature_2m_2023_partie3_bis.csv')\n",
    "\n",
    "communes_de_france_temp_predite3 = pd.read_csv('france_communes_hourly_past_predicted_temperature_2m_2023_partie3.csv')\n"
   ]
  },
  {
   "cell_type": "code",
   "execution_count": 19,
   "metadata": {},
   "outputs": [
    {
     "name": "stdout",
     "output_type": "stream",
     "text": [
      "23249040\n",
      "23227015\n"
     ]
    }
   ],
   "source": [
    "communes_de_france_reelle3_concat = pd.concat([communes_de_france_temp_reelle3,communes_de_france_temp_reelle3bis], axis=0)\n",
    "\n",
    "\n",
    "print(len(communes_de_france_reelle3_concat))\n",
    "print(len(communes_de_france_temp_predite3))\n"
   ]
  },
  {
   "cell_type": "code",
   "execution_count": 20,
   "metadata": {},
   "outputs": [],
   "source": [
    "communes_de_france_reelle3_concat = communes_de_france_reelle3_concat.rename(columns={communes_de_france_reelle3_concat.columns[0]: 'compteur'})\n",
    "communes_de_france_reelle3_concat = communes_de_france_reelle3_concat[~(communes_de_france_reelle3_concat[\"compteur\"].isin([8743,8744,8745,8746,8747]))]"
   ]
  },
  {
   "cell_type": "code",
   "execution_count": 22,
   "metadata": {},
   "outputs": [
    {
     "name": "stdout",
     "output_type": "stream",
     "text": [
      "33934380\n",
      "          Unnamed: 0                       date  temperature_2m_x   latitude  \\\n",
      "0                  0  2023-01-01 00:00:00+00:00         13.932500  48.980836   \n",
      "1                  1  2023-01-01 01:00:00+00:00         13.132501  48.980836   \n",
      "2                  2  2023-01-01 02:00:00+00:00         12.532500  48.980836   \n",
      "3                  3  2023-01-01 03:00:00+00:00         12.332500  48.980836   \n",
      "4                  4  2023-01-01 04:00:00+00:00         11.882501  48.980836   \n",
      "...              ...                        ...               ...        ...   \n",
      "33934375        8755  2023-12-31 19:00:00+00:00          6.622000  49.267318   \n",
      "33934376        8756  2023-12-31 20:00:00+00:00          6.172000  49.267318   \n",
      "33934377        8757  2023-12-31 21:00:00+00:00          5.922000  49.267318   \n",
      "33934378        8758  2023-12-31 22:00:00+00:00          5.672000  49.267318   \n",
      "33934379        8759  2023-12-31 23:00:00+00:00          5.572000  49.267318   \n",
      "\n",
      "          longitude  compteur  temperature_2m_y  \n",
      "0         -1.188924         0            12.302  \n",
      "1         -1.188924         1            12.002  \n",
      "2         -1.188924         2            11.752  \n",
      "3         -1.188924         3            11.202  \n",
      "4         -1.188924         4            11.052  \n",
      "...             ...       ...               ...  \n",
      "33934375   5.188495      8755             6.698  \n",
      "33934376   5.188495      8756             5.998  \n",
      "33934377   5.188495      8757             5.548  \n",
      "33934378   5.188495      8758             5.498  \n",
      "33934379   5.188495      8759             5.498  \n",
      "\n",
      "[33934380 rows x 7 columns]\n"
     ]
    }
   ],
   "source": [
    "température3 = pd.merge(communes_de_france_temp_predite3,communes_de_france_reelle3_concat, on=['date', 'longitude', 'latitude'])\n",
    "print(len(température3))\n",
    "print(température3)"
   ]
  },
  {
   "cell_type": "code",
   "execution_count": 23,
   "metadata": {},
   "outputs": [],
   "source": [
    "communes_de_france_temp_reelle4 = pd.read_csv('france_communes_hourly_past_real_temperature_2m_2023_partie4_32719.csv')\n",
    "\n",
    "\n",
    "communes_de_france_temp_predite4 = pd.read_csv('france_communes_hourly_past_predicted_temperature_2m_2023_partie4_32719.csv')"
   ]
  },
  {
   "cell_type": "code",
   "execution_count": 24,
   "metadata": {},
   "outputs": [],
   "source": [
    "communes_de_france_temp_reelle4 = communes_de_france_temp_reelle4.rename(columns={communes_de_france_temp_reelle4.columns[0]: 'compteur'})\n",
    "communes_de_france_temp_reelle4 = communes_de_france_temp_reelle4[~(communes_de_france_temp_reelle4[\"compteur\"].isin([8743,8744,8745,8746,8747]))]"
   ]
  },
  {
   "cell_type": "code",
   "execution_count": 25,
   "metadata": {},
   "outputs": [
    {
     "name": "stdout",
     "output_type": "stream",
     "text": [
      "30012140\n",
      "          Unnamed: 0                       date  temperature_2m_x   latitude  \\\n",
      "0                  0  2023-01-01 00:00:00+00:00           10.7935  47.620239   \n",
      "1                  1  2023-01-01 01:00:00+00:00           10.5435  47.620239   \n",
      "2                  2  2023-01-01 02:00:00+00:00           10.0435  47.620239   \n",
      "3                  3  2023-01-01 03:00:00+00:00            9.2935  47.620239   \n",
      "4                  4  2023-01-01 04:00:00+00:00            9.6935  47.620239   \n",
      "...              ...                        ...               ...        ...   \n",
      "30012135        8755  2023-12-31 19:00:00+00:00            7.2150  49.536044   \n",
      "30012136        8756  2023-12-31 20:00:00+00:00            6.9650  49.536044   \n",
      "30012137        8757  2023-12-31 21:00:00+00:00            6.6150  49.536044   \n",
      "30012138        8758  2023-12-31 22:00:00+00:00            6.5150  49.536044   \n",
      "30012139        8759  2023-12-31 23:00:00+00:00            6.5150  49.536044   \n",
      "\n",
      "          longitude  compteur  temperature_2m_y  \n",
      "0          7.300485         0          8.688001  \n",
      "1          7.300485         1          9.338000  \n",
      "2          7.300485         2          9.088000  \n",
      "3          7.300485         3         11.138001  \n",
      "4          7.300485         4         11.988000  \n",
      "...             ...       ...               ...  \n",
      "30012135   1.274291      8755          6.643500  \n",
      "30012136   1.274291      8756          6.443500  \n",
      "30012137   1.274291      8757          6.293500  \n",
      "30012138   1.274291      8758          6.293500  \n",
      "30012139   1.274291      8759          6.193500  \n",
      "\n",
      "[30012140 rows x 7 columns]\n"
     ]
    }
   ],
   "source": [
    "température4 = pd.merge(communes_de_france_temp_predite4,communes_de_france_temp_reelle4, on=['date', 'longitude', 'latitude'])\n",
    "print(len(température4))\n",
    "print(température4)"
   ]
  },
  {
   "cell_type": "code",
   "execution_count": null,
   "metadata": {},
   "outputs": [
    {
     "ename": "MemoryError",
     "evalue": "Unable to allocate 488. MiB for an array with shape (1, 63946520) and data type int64",
     "output_type": "error",
     "traceback": [
      "\u001b[1;31m---------------------------------------------------------------------------\u001b[0m",
      "\u001b[1;31mMemoryError\u001b[0m                               Traceback (most recent call last)",
      "Cell \u001b[1;32mIn[29], line 1\u001b[0m\n\u001b[1;32m----> 1\u001b[0m temperature_concat3_4 \u001b[38;5;241m=\u001b[39m \u001b[43mpd\u001b[49m\u001b[38;5;241;43m.\u001b[39;49m\u001b[43mconcat\u001b[49m\u001b[43m(\u001b[49m\u001b[43m[\u001b[49m\u001b[43mtempérature3\u001b[49m\u001b[43m,\u001b[49m\u001b[43mtempérature4\u001b[49m\u001b[43m]\u001b[49m\u001b[43m,\u001b[49m\u001b[43m \u001b[49m\u001b[43maxis\u001b[49m\u001b[38;5;241;43m=\u001b[39;49m\u001b[38;5;241;43m0\u001b[39;49m\u001b[43m)\u001b[49m\n",
      "File \u001b[1;32mc:\\Users\\tsang\\AppData\\Local\\Programs\\Python\\Python310\\lib\\site-packages\\pandas\\core\\reshape\\concat.py:395\u001b[0m, in \u001b[0;36mconcat\u001b[1;34m(objs, axis, join, ignore_index, keys, levels, names, verify_integrity, sort, copy)\u001b[0m\n\u001b[0;32m    380\u001b[0m     copy \u001b[38;5;241m=\u001b[39m \u001b[38;5;28;01mFalse\u001b[39;00m\n\u001b[0;32m    382\u001b[0m op \u001b[38;5;241m=\u001b[39m _Concatenator(\n\u001b[0;32m    383\u001b[0m     objs,\n\u001b[0;32m    384\u001b[0m     axis\u001b[38;5;241m=\u001b[39maxis,\n\u001b[1;32m   (...)\u001b[0m\n\u001b[0;32m    392\u001b[0m     sort\u001b[38;5;241m=\u001b[39msort,\n\u001b[0;32m    393\u001b[0m )\n\u001b[1;32m--> 395\u001b[0m \u001b[38;5;28;01mreturn\u001b[39;00m \u001b[43mop\u001b[49m\u001b[38;5;241;43m.\u001b[39;49m\u001b[43mget_result\u001b[49m\u001b[43m(\u001b[49m\u001b[43m)\u001b[49m\n",
      "File \u001b[1;32mc:\\Users\\tsang\\AppData\\Local\\Programs\\Python\\Python310\\lib\\site-packages\\pandas\\core\\reshape\\concat.py:684\u001b[0m, in \u001b[0;36m_Concatenator.get_result\u001b[1;34m(self)\u001b[0m\n\u001b[0;32m    680\u001b[0m             indexers[ax] \u001b[38;5;241m=\u001b[39m obj_labels\u001b[38;5;241m.\u001b[39mget_indexer(new_labels)\n\u001b[0;32m    682\u001b[0m     mgrs_indexers\u001b[38;5;241m.\u001b[39mappend((obj\u001b[38;5;241m.\u001b[39m_mgr, indexers))\n\u001b[1;32m--> 684\u001b[0m new_data \u001b[38;5;241m=\u001b[39m \u001b[43mconcatenate_managers\u001b[49m\u001b[43m(\u001b[49m\n\u001b[0;32m    685\u001b[0m \u001b[43m    \u001b[49m\u001b[43mmgrs_indexers\u001b[49m\u001b[43m,\u001b[49m\u001b[43m \u001b[49m\u001b[38;5;28;43mself\u001b[39;49m\u001b[38;5;241;43m.\u001b[39;49m\u001b[43mnew_axes\u001b[49m\u001b[43m,\u001b[49m\u001b[43m \u001b[49m\u001b[43mconcat_axis\u001b[49m\u001b[38;5;241;43m=\u001b[39;49m\u001b[38;5;28;43mself\u001b[39;49m\u001b[38;5;241;43m.\u001b[39;49m\u001b[43mbm_axis\u001b[49m\u001b[43m,\u001b[49m\u001b[43m \u001b[49m\u001b[43mcopy\u001b[49m\u001b[38;5;241;43m=\u001b[39;49m\u001b[38;5;28;43mself\u001b[39;49m\u001b[38;5;241;43m.\u001b[39;49m\u001b[43mcopy\u001b[49m\n\u001b[0;32m    686\u001b[0m \u001b[43m\u001b[49m\u001b[43m)\u001b[49m\n\u001b[0;32m    687\u001b[0m \u001b[38;5;28;01mif\u001b[39;00m \u001b[38;5;129;01mnot\u001b[39;00m \u001b[38;5;28mself\u001b[39m\u001b[38;5;241m.\u001b[39mcopy \u001b[38;5;129;01mand\u001b[39;00m \u001b[38;5;129;01mnot\u001b[39;00m using_copy_on_write():\n\u001b[0;32m    688\u001b[0m     new_data\u001b[38;5;241m.\u001b[39m_consolidate_inplace()\n",
      "File \u001b[1;32mc:\\Users\\tsang\\AppData\\Local\\Programs\\Python\\Python310\\lib\\site-packages\\pandas\\core\\internals\\concat.py:177\u001b[0m, in \u001b[0;36mconcatenate_managers\u001b[1;34m(mgrs_indexers, axes, concat_axis, copy)\u001b[0m\n\u001b[0;32m    167\u001b[0m vals \u001b[38;5;241m=\u001b[39m [ju\u001b[38;5;241m.\u001b[39mblock\u001b[38;5;241m.\u001b[39mvalues \u001b[38;5;28;01mfor\u001b[39;00m ju \u001b[38;5;129;01min\u001b[39;00m join_units]\n\u001b[0;32m    169\u001b[0m \u001b[38;5;28;01mif\u001b[39;00m \u001b[38;5;129;01mnot\u001b[39;00m blk\u001b[38;5;241m.\u001b[39mis_extension:\n\u001b[0;32m    170\u001b[0m     \u001b[38;5;66;03m# _is_uniform_join_units ensures a single dtype, so\u001b[39;00m\n\u001b[0;32m    171\u001b[0m     \u001b[38;5;66;03m#  we can use np.concatenate, which is more performant\u001b[39;00m\n\u001b[1;32m   (...)\u001b[0m\n\u001b[0;32m    175\u001b[0m     \u001b[38;5;66;03m# expected \"Union[_SupportsArray[dtype[Any]],\u001b[39;00m\n\u001b[0;32m    176\u001b[0m     \u001b[38;5;66;03m# _NestedSequence[_SupportsArray[dtype[Any]]]]\"\u001b[39;00m\n\u001b[1;32m--> 177\u001b[0m     values \u001b[38;5;241m=\u001b[39m \u001b[43mnp\u001b[49m\u001b[38;5;241;43m.\u001b[39;49m\u001b[43mconcatenate\u001b[49m\u001b[43m(\u001b[49m\u001b[43mvals\u001b[49m\u001b[43m,\u001b[49m\u001b[43m \u001b[49m\u001b[43maxis\u001b[49m\u001b[38;5;241;43m=\u001b[39;49m\u001b[38;5;241;43m1\u001b[39;49m\u001b[43m)\u001b[49m  \u001b[38;5;66;03m# type: ignore[arg-type]\u001b[39;00m\n\u001b[0;32m    178\u001b[0m \u001b[38;5;28;01melif\u001b[39;00m is_1d_only_ea_dtype(blk\u001b[38;5;241m.\u001b[39mdtype):\n\u001b[0;32m    179\u001b[0m     \u001b[38;5;66;03m# TODO(EA2D): special-casing not needed with 2D EAs\u001b[39;00m\n\u001b[0;32m    180\u001b[0m     values \u001b[38;5;241m=\u001b[39m concat_compat(vals, axis\u001b[38;5;241m=\u001b[39m\u001b[38;5;241m0\u001b[39m, ea_compat_axis\u001b[38;5;241m=\u001b[39m\u001b[38;5;28;01mTrue\u001b[39;00m)\n",
      "\u001b[1;31mMemoryError\u001b[0m: Unable to allocate 488. MiB for an array with shape (1, 63946520) and data type int64"
     ]
    }
   ],
   "source": []
  },
  {
   "cell_type": "code",
   "execution_count": 30,
   "metadata": {},
   "outputs": [],
   "source": [
    "température1.to_csv('température1')\n",
    "température2.to_csv('température2')\n",
    "température3.to_csv('température3')\n",
    "température4.to_csv('température4')"
   ]
  }
 ],
 "metadata": {
  "kernelspec": {
   "display_name": "Python 3",
   "language": "python",
   "name": "python3"
  },
  "language_info": {
   "codemirror_mode": {
    "name": "ipython",
    "version": 3
   },
   "file_extension": ".py",
   "mimetype": "text/x-python",
   "name": "python",
   "nbconvert_exporter": "python",
   "pygments_lexer": "ipython3",
   "version": "3.10.11"
  }
 },
 "nbformat": 4,
 "nbformat_minor": 2
}
